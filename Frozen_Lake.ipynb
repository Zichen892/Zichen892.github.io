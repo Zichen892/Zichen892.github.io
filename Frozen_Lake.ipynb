{
  "nbformat": 4,
  "nbformat_minor": 0,
  "metadata": {
    "colab": {
      "provenance": [],
      "toc_visible": true,
      "include_colab_link": true
    },
    "kernelspec": {
      "name": "python3",
      "display_name": "Python 3"
    },
    "language_info": {
      "name": "python"
    }
  },
  "cells": [
    {
      "cell_type": "markdown",
      "metadata": {
        "id": "view-in-github",
        "colab_type": "text"
      },
      "source": [
        "<a href=\"https://colab.research.google.com/github/Zichen892/Zichen892.github.io/blob/main/Frozen_Lake.ipynb\" target=\"_parent\"><img src=\"https://colab.research.google.com/assets/colab-badge.svg\" alt=\"Open In Colab\"/></a>"
      ]
    },
    {
      "cell_type": "markdown",
      "source": [
        "# Table of contents\n",
        "- Problem statement \n",
        "- Environment initialization\n",
        "- Q Learning\n",
        "  - Reinforcement Learning & Markov Decision Process (MDP)\n",
        "  - Bellman Equation\n",
        "  - Q Tables & Learning intuition and its **implementation**\n",
        "  - Exploration and Exploiration\n",
        "\n",
        "- Deep Q Learning (DQN)\n",
        "  - Definition \n",
        "  - Significance \n",
        "  - Implementation\n",
        "\n",
        "- Performance evalution\n",
        "  - Render\n",
        "  - Success rate vs. Eposides\n",
        "  - Comparison between QL and QLN \n",
        "\n",
        "- References\n",
        "\n"
      ],
      "metadata": {
        "id": "d6jvnm244uPP"
      }
    },
    {
      "cell_type": "markdown",
      "source": [
        "# Environment"
      ],
      "metadata": {
        "id": "Mx4SCTe_QT19"
      }
    },
    {
      "cell_type": "code",
      "source": [
        "!pip install gym[toy_text]"
      ],
      "metadata": {
        "id": "YN-adfq8SD79",
        "outputId": "b75d5ec7-43ad-45cd-abdf-bbaf8624d17a",
        "colab": {
          "base_uri": "https://localhost:8080/"
        }
      },
      "execution_count": null,
      "outputs": [
        {
          "output_type": "stream",
          "name": "stdout",
          "text": [
            "Looking in indexes: https://pypi.org/simple, https://us-python.pkg.dev/colab-wheels/public/simple/\n",
            "Requirement already satisfied: gym[toy_text] in /usr/local/lib/python3.7/dist-packages (0.25.2)\n",
            "Requirement already satisfied: numpy>=1.18.0 in /usr/local/lib/python3.7/dist-packages (from gym[toy_text]) (1.21.6)\n",
            "Requirement already satisfied: importlib-metadata>=4.8.0 in /usr/local/lib/python3.7/dist-packages (from gym[toy_text]) (4.12.0)\n",
            "Requirement already satisfied: cloudpickle>=1.2.0 in /usr/local/lib/python3.7/dist-packages (from gym[toy_text]) (1.5.0)\n",
            "Requirement already satisfied: gym-notices>=0.0.4 in /usr/local/lib/python3.7/dist-packages (from gym[toy_text]) (0.0.8)\n",
            "Collecting pygame==2.1.0\n",
            "  Downloading pygame-2.1.0-cp37-cp37m-manylinux_2_17_x86_64.manylinux2014_x86_64.whl (18.3 MB)\n",
            "\u001b[K     |████████████████████████████████| 18.3 MB 105 kB/s \n",
            "\u001b[?25hRequirement already satisfied: zipp>=0.5 in /usr/local/lib/python3.7/dist-packages (from importlib-metadata>=4.8.0->gym[toy_text]) (3.8.1)\n",
            "Requirement already satisfied: typing-extensions>=3.6.4 in /usr/local/lib/python3.7/dist-packages (from importlib-metadata>=4.8.0->gym[toy_text]) (4.1.1)\n",
            "Installing collected packages: pygame\n",
            "Successfully installed pygame-2.1.0\n"
          ]
        }
      ]
    },
    {
      "cell_type": "code",
      "source": [
        "import gym\n",
        "import numpy as np\n"
      ],
      "metadata": {
        "id": "KGzAw0FbTdAd"
      },
      "execution_count": null,
      "outputs": []
    },
    {
      "cell_type": "code",
      "source": [
        "env = gym.make('FrozenLake-v1', desc=None, map_name=\"4x4\", is_slippery=False)\n",
        "n_ob = env.observation_space.n\n",
        "n_act = env.action_space.n\n",
        "print(n_ob, n_act)\n",
        "# env.render()"
      ],
      "metadata": {
        "id": "U43HDSNpQSwB",
        "outputId": "f710ddaf-6399-4542-a4a5-406dee87fbe7",
        "colab": {
          "base_uri": "https://localhost:8080/"
        }
      },
      "execution_count": null,
      "outputs": [
        {
          "output_type": "stream",
          "name": "stdout",
          "text": [
            "16 4\n"
          ]
        },
        {
          "output_type": "stream",
          "name": "stderr",
          "text": [
            "/usr/local/lib/python3.7/dist-packages/gym/core.py:318: DeprecationWarning: \u001b[33mWARN: Initializing wrapper in old step API which returns one bool instead of two. It is recommended to set `new_step_api=True` to use new step API. This will be the default behaviour in future.\u001b[0m\n",
            "  \"Initializing wrapper in old step API which returns one bool instead of two. It is recommended to set `new_step_api=True` to use new step API. This will be the default behaviour in future.\"\n",
            "/usr/local/lib/python3.7/dist-packages/gym/wrappers/step_api_compatibility.py:40: DeprecationWarning: \u001b[33mWARN: Initializing environment in old step API which returns one bool instead of two. It is recommended to set `new_step_api=True` to use new step API. This will be the default behaviour in future.\u001b[0m\n",
            "  \"Initializing environment in old step API which returns one bool instead of two. It is recommended to set `new_step_api=True` to use new step API. This will be the default behaviour in future.\"\n"
          ]
        }
      ]
    },
    {
      "cell_type": "code",
      "source": [
        "q = np.zeros((n_ob, n_act))\n",
        "print(q)"
      ],
      "metadata": {
        "id": "6tAomcF0UHWW",
        "outputId": "a1fbfcf6-473c-4e19-e87d-7302a3615357",
        "colab": {
          "base_uri": "https://localhost:8080/"
        }
      },
      "execution_count": null,
      "outputs": [
        {
          "output_type": "stream",
          "name": "stdout",
          "text": [
            "[[0. 0. 0. 0.]\n",
            " [0. 0. 0. 0.]\n",
            " [0. 0. 0. 0.]\n",
            " [0. 0. 0. 0.]\n",
            " [0. 0. 0. 0.]\n",
            " [0. 0. 0. 0.]\n",
            " [0. 0. 0. 0.]\n",
            " [0. 0. 0. 0.]\n",
            " [0. 0. 0. 0.]\n",
            " [0. 0. 0. 0.]\n",
            " [0. 0. 0. 0.]\n",
            " [0. 0. 0. 0.]\n",
            " [0. 0. 0. 0.]\n",
            " [0. 0. 0. 0.]\n",
            " [0. 0. 0. 0.]\n",
            " [0. 0. 0. 0.]]\n"
          ]
        }
      ]
    },
    {
      "cell_type": "code",
      "source": [
        "n_eps = 100\n",
        "n_steps = 10\n",
        "\n",
        "alpha = .5\n",
        "lambda_ = .9\n",
        "n_sucess = 0\n",
        "result = []\n",
        "\n",
        "for eps in range(n_eps):\n",
        "  s = env.reset()\n",
        "  result.append('Failure')\n",
        "\n",
        "  for step in range(n_steps):\n",
        "\n",
        "    a = env.action_space.sample()\n",
        "    n_s, r, stop, info = env.step(a)\n",
        "    q[s, a] = q[s, a] + alpha * (r + lambda_ * np.max(q[n_s]) - q[s, a])\n",
        "    s = n_s\n",
        "\n",
        "    if stop:\n",
        "      n_sucess += 1\n",
        "      result[-1] = 'Success'\n",
        "      break"
      ],
      "metadata": {
        "id": "LZTGkQLEU2lx"
      },
      "execution_count": null,
      "outputs": []
    },
    {
      "cell_type": "code",
      "source": [
        "q"
      ],
      "metadata": {
        "id": "KQ-Y7e5BZKsO",
        "outputId": "fd59a174-746f-4fd6-b7ac-66679816e3a1",
        "colab": {
          "base_uri": "https://localhost:8080/"
        }
      },
      "execution_count": null,
      "outputs": [
        {
          "output_type": "execute_result",
          "data": {
            "text/plain": [
              "array([[0.50650526, 0.56226769, 0.56310192, 0.50666043],\n",
              "       [0.50581315, 0.        , 0.62621127, 0.55792597],\n",
              "       [0.56147209, 0.69715999, 0.49688966, 0.62387713],\n",
              "       [0.59006162, 0.        , 0.40998184, 0.41506269],\n",
              "       [0.5620364 , 0.62474306, 0.        , 0.50631339],\n",
              "       [0.        , 0.        , 0.        , 0.        ],\n",
              "       [0.        , 0.77571442, 0.        , 0.59802917],\n",
              "       [0.        , 0.        , 0.        , 0.        ],\n",
              "       [0.61901481, 0.        , 0.69654835, 0.55882805],\n",
              "       [0.60098619, 0.47935547, 0.77868922, 0.        ],\n",
              "       [0.68631157, 0.86791992, 0.        , 0.66412683],\n",
              "       [0.        , 0.        , 0.        , 0.        ],\n",
              "       [0.        , 0.        , 0.        , 0.        ],\n",
              "       [0.        , 0.29900391, 0.6046875 , 0.44696523],\n",
              "       [0.39867188, 0.76289063, 0.96875   , 0.72318604],\n",
              "       [0.        , 0.        , 0.        , 0.        ]])"
            ]
          },
          "metadata": {},
          "execution_count": 40
        }
      ]
    },
    {
      "cell_type": "code",
      "source": [
        "print(n_sucess / n_eps)"
      ],
      "metadata": {
        "id": "zo-AxWp3Z0C6",
        "outputId": "40672e68-072d-4112-d1a4-e5a6e0eba774",
        "colab": {
          "base_uri": "https://localhost:8080/"
        }
      },
      "execution_count": null,
      "outputs": [
        {
          "output_type": "stream",
          "name": "stdout",
          "text": [
            "0.75\n"
          ]
        }
      ]
    },
    {
      "cell_type": "code",
      "source": [
        "import matplotlib.pyplot as plt\n",
        "plt.bar(range(n_eps), result, color=\"#0A047A\", width=1.0)\n",
        "print(result)"
      ],
      "metadata": {
        "id": "eEUCfwlCam6e",
        "outputId": "bfc95e9a-59c3-420c-f83a-40b6f47c623c",
        "colab": {
          "base_uri": "https://localhost:8080/",
          "height": 302
        }
      },
      "execution_count": null,
      "outputs": [
        {
          "output_type": "stream",
          "name": "stdout",
          "text": [
            "['Success', 'Success', 'Success', 'Success', 'Success', 'Success', 'Success', 'Success', 'Success', 'Success', 'Success', 'Success', 'Success', 'Success', 'Success', 'Success', 'Success', 'Success', 'Failure', 'Success', 'Failure', 'Failure', 'Success', 'Success', 'Failure', 'Success', 'Failure', 'Success', 'Success', 'Success', 'Success', 'Failure', 'Success', 'Success', 'Failure', 'Failure', 'Success', 'Success', 'Success', 'Success', 'Failure', 'Success', 'Success', 'Success', 'Success', 'Success', 'Failure', 'Success', 'Success', 'Success', 'Success', 'Failure', 'Failure', 'Success', 'Failure', 'Success', 'Success', 'Failure', 'Success', 'Success', 'Success', 'Success', 'Failure', 'Success', 'Success', 'Failure', 'Failure', 'Success', 'Failure', 'Success', 'Success', 'Success', 'Success', 'Failure', 'Success', 'Failure', 'Success', 'Success', 'Success', 'Failure', 'Failure', 'Success', 'Success', 'Success', 'Success', 'Failure', 'Success', 'Failure', 'Success', 'Success', 'Success', 'Success', 'Success', 'Success', 'Success', 'Success', 'Failure', 'Success', 'Success', 'Success']\n"
          ]
        },
        {
          "output_type": "display_data",
          "data": {
            "text/plain": [
              "<Figure size 432x288 with 1 Axes>"
            ],
            "image/png": "[encoded data removed]"
          },
          "metadata": {
            "needs_background": "light"
          }
        }
      ]
    },
    {
      "cell_type": "markdown",
      "source": [
        "# References\n",
        "- [Frozen Lake Official Documentation](https://www.gymlibrary.dev/environments/toy_text/frozen_lake/)\n",
        "- [Q-learning for beginners\n",
        "Train an AI to solve the Frozen Lake environment](https://mlabonne.github.io/blog/reinforcement%20learning/q-learning/frozen%20lake/gym/tutorial/2022/02/13/Q_learning.html)\n",
        "- [DQN - Reinforcement Learning with Frozen Lake](https://martin-ueding.de/posts/reinforcement-learning-with-frozen-lake/)\n",
        "- [Q-learning - taxi problem](https://github.com/MINGofHope/RL-Frozen-Leak/blob/master/ref_openai_gym_taxi_tutorial.ipynb)\n",
        "- [DQN - taxi problem in lecture ](https://github.com/MINGofHope/RL-Frozen-Leak/blob/master/ref_DQN_Taxi_v3.ipynb)\n",
        "- [Github tutorial if applicable](https://www.youtube.com/watch?v=RGOj5yH7evk)"
      ],
      "metadata": {
        "id": "NSlxyeTp-jWv"
      }
    },
    {
      "cell_type": "code",
      "source": [],
      "metadata": {
        "id": "svnppF4dU1OI"
      },
      "execution_count": null,
      "outputs": []
    },
    {
      "cell_type": "markdown",
      "source": [
        "# Project Management\n",
        "Task Split & Time Arrangement \n",
        "- Report Draft\n",
        "- Q Learing implemetation & Evaluation\n",
        "- DQN implementation & Evaluation   🔔 (Oct 2, flexible)\n",
        "\n"
      ],
      "metadata": {
        "id": "o4RxBf_yCvBt"
      }
    },
    {
      "cell_type": "markdown",
      "source": [
        "# Problems that you have faced "
      ],
      "metadata": {
        "id": "EumWsaM3DlAS"
      }
    },
    {
      "cell_type": "markdown",
      "source": [],
      "metadata": {
        "id": "E_uUivTUGDt1"
      }
    }
  ]
}